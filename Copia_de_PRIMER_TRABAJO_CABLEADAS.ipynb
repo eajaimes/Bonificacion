{
  "nbformat": 4,
  "nbformat_minor": 0,
  "metadata": {
    "colab": {
      "provenance": [],
      "include_colab_link": true
    },
    "kernelspec": {
      "name": "python3",
      "display_name": "Python 3"
    },
    "language_info": {
      "name": "python"
    }
  },
  "cells": [
    {
      "cell_type": "markdown",
      "metadata": {
        "id": "view-in-github",
        "colab_type": "text"
      },
      "source": [
        "<a href=\"https://colab.research.google.com/github/eajaimes/Bonificacion/blob/main/Copia_de_PRIMER_TRABAJO_CABLEADAS.ipynb\" target=\"_parent\"><img src=\"https://colab.research.google.com/assets/colab-badge.svg\" alt=\"Open In Colab\"/></a>"
      ]
    },
    {
      "cell_type": "code",
      "execution_count": null,
      "metadata": {
        "colab": {
          "base_uri": "https://localhost:8080/"
        },
        "id": "Q2xNBrzbvsa8",
        "outputId": "d1fa1484-8b0d-4494-a17d-4d050bcce9e1"
      },
      "outputs": [
        {
          "output_type": "stream",
          "name": "stdout",
          "text": [
            "Ingrese la longitud de bits de su arreglo: 5\n",
            "Su vector de bits es: [0, 1, 0, 0, 1]\n"
          ]
        }
      ],
      "source": [
        "\"\"\"\n",
        "@authores: Maria Celeste Zuluaga Giraldo - Estefanny Alejandra Jaimes León.\n",
        "\"\"\"\n",
        "import numpy as np\n",
        "import matplotlib.pyplot as plt\n",
        "import random\n",
        "import statistics\n",
        "\n",
        "\n",
        "cantidad = int(input(\"Ingrese la longitud de bits de su arreglo: \"))\n",
        "arreglo = []\n",
        "for i in range(cantidad):\n",
        "    valor_aleatorio = random.randrange(0, 2) #Aquí generamos los valores aleatorios entre 0 y 1\n",
        "    arreglo.append(valor_aleatorio)\n",
        "\n",
        "arreglo2 = [1, 0, 0, 1, 1] #este vector lo damos fijo para posteriormente hacer lo del XOR\n",
        "print(\"Su vector de bits es:\",arreglo)"
      ]
    },
    {
      "cell_type": "code",
      "source": [
        "import matplotlib.pyplot as plt\n",
        "fig, ax = plt.subplots(figsize=(cantidad + 1, 2))\n",
        "for i in range(len(arreglo) + 2):\n",
        "    ax.axvline(x=i, color='gray', linestyle='--', linewidth=0.5)\n",
        "for i, bit in enumerate(arreglo):\n",
        "    if bit == 1:\n",
        "        ax.add_patch(plt.Rectangle((i, 0), 1, 1, color='black'))\n",
        "    else:\n",
        "        ax.hlines(0, i, i + 1, color='black')\n",
        "ax.set_title('Señal Original')\n",
        "ax.set_xlabel('Bits')\n",
        "ax.set_ylabel('Valor')\n",
        "\n",
        "# Configurar la cuadrícula en el eje y\n",
        "ax.set_yticks([0, 0.5, 1])\n",
        "ax.set_yticklabels([0, 0.5, 1])\n",
        "# Mostrar el gráfico\n",
        "plt.xlim(-0.5, len(arreglo) + 0.5)\n",
        "plt.ylim(-0.1, 1.1)\n",
        "plt.show()\n"
      ],
      "metadata": {
        "colab": {
          "base_uri": "https://localhost:8080/",
          "height": 256
        },
        "id": "zkcHwlEX_IQM",
        "outputId": "7e508ae5-420f-4ae5-d105-8001b1b453f4"
      },
      "execution_count": null,
      "outputs": [
        {
          "output_type": "display_data",
          "data": {
            "text/plain": [
              "<Figure size 600x200 with 1 Axes>"
            ],
            "image/png": "[encoded data removed]"
          },
          "metadata": {}
        }
      ]
    },
    {
      "cell_type": "code",
      "source": [
        "arregloXOR = []\n",
        "for a in arreglo:\n",
        "    for b in arreglo2:\n",
        "        resultado_xor = np.logical_xor(a, b)\n",
        "        arregloXOR.append(resultado_xor)\n",
        "\n",
        "tamaño = len(arregloXOR)\n",
        "print(\"Vector resultanter XOR\",arregloXOR)\n",
        "print(\"El tamaño del vector es:\", tamaño)"
      ],
      "metadata": {
        "colab": {
          "base_uri": "https://localhost:8080/"
        },
        "id": "rhoBUx3tvzgi",
        "outputId": "10e5b244-eef5-4cbc-b84e-78fd3daa94cb"
      },
      "execution_count": null,
      "outputs": [
        {
          "output_type": "stream",
          "name": "stdout",
          "text": [
            "Vector resultanter XOR [True, False, False, True, True, False, True, True, False, False, True, False, False, True, True, True, False, False, True, True, False, True, True, False, False]\n",
            "El tamaño del vector es: 25\n"
          ]
        }
      ]
    },
    {
      "cell_type": "code",
      "source": [
        "for i in range(len(arregloXOR)):\n",
        "  if(arregloXOR[i] == True):\n",
        "    arregloXOR[i] = 1\n",
        "  if(arregloXOR[i] == False):\n",
        "    arregloXOR[i] = 0\n",
        "print(\"Vector resultanter XOR\",arregloXOR)"
      ],
      "metadata": {
        "colab": {
          "base_uri": "https://localhost:8080/"
        },
        "id": "7anM9w-j6HVs",
        "outputId": "b198c216-69f9-4595-eaa9-138e4af1f186"
      },
      "execution_count": null,
      "outputs": [
        {
          "output_type": "stream",
          "name": "stdout",
          "text": [
            "Vector resultanter XOR [1, 0, 0, 1, 1, 0, 1, 1, 0, 0, 1, 0, 0, 1, 1, 1, 0, 0, 1, 1, 0, 1, 1, 0, 0]\n"
          ]
        }
      ]
    },
    {
      "cell_type": "code",
      "source": [
        "#vamos agregarle el valor DC, en caso de que el bit sea 1 se le agrega un 2 y si es un 0 se le agrega un 1\n",
        "# true 1; false 0\n",
        "for i in range(len(arregloXOR)): #Agregamos nivel dc\n",
        "    if(arregloXOR[i] == True): #Si 1 = 2 dc\n",
        "        arregloXOR[i] = 2\n",
        "    if(arregloXOR[i] == False): #si 0 = 1 dc\n",
        "        arregloXOR[i] = 1\n",
        "tamaño3 = len(arregloXOR)\n",
        "print(\"Vector con nivel Dc agregado\",arregloXOR)\n",
        "print(\"El tamaño del vector es\",tamaño3)"
      ],
      "metadata": {
        "colab": {
          "base_uri": "https://localhost:8080/"
        },
        "id": "ZoHI_k7iv-eV",
        "outputId": "62caa8ef-7594-43f9-80a8-2a57823ad8d4"
      },
      "execution_count": null,
      "outputs": [
        {
          "output_type": "stream",
          "name": "stdout",
          "text": [
            "Vector con nivel Dc agregado [2, 1, 1, 2, 2, 1, 2, 2, 1, 1, 2, 1, 1, 2, 2, 2, 1, 1, 2, 2, 1, 2, 2, 1, 1]\n",
            "El tamaño del vector es 25\n"
          ]
        }
      ]
    },
    {
      "cell_type": "code",
      "source": [
        "vector_rui = []  # Creamos un vector de ruido\n",
        "#elegimos que el 50% tuviera un ruido de 3V y el otro 50% un ruido de 7V\n",
        "\n",
        "for i in range(len(arreglo) * len(arreglo2)):\n",
        "    if i < len(arreglo) * len(arreglo2) * 0.5:  #  50% = 3 voltios\n",
        "        vector_rui.append(3)\n",
        "    else:  #  50% = 7 voltios\n",
        "        vector_rui.append(7)\n",
        "\n",
        "print(\"Vector señal de ruido:\",vector_rui)"
      ],
      "metadata": {
        "colab": {
          "base_uri": "https://localhost:8080/"
        },
        "id": "AgXr7zw3wIFh",
        "outputId": "a225a425-6916-4147-c7f3-764762c98520"
      },
      "execution_count": null,
      "outputs": [
        {
          "output_type": "stream",
          "name": "stdout",
          "text": [
            "Vector señal de ruido: [3, 3, 3, 3, 3, 3, 3, 3, 3, 3, 3, 3, 3, 7, 7, 7, 7, 7, 7, 7, 7, 7, 7, 7, 7]\n"
          ]
        }
      ]
    },
    {
      "cell_type": "code",
      "source": [
        "suma_s_entrada = []\n",
        "suma_s_entrada = np.add(arregloXOR,vector_rui); #sumamos los ruidos\n",
        "print(\"Vector señal a la entrada del receptor \",suma_s_entrada)"
      ],
      "metadata": {
        "id": "f4Ht_BoAx3og",
        "colab": {
          "base_uri": "https://localhost:8080/"
        },
        "outputId": "9051d9c1-4872-4d72-d44d-6469544dd11c"
      },
      "execution_count": null,
      "outputs": [
        {
          "output_type": "stream",
          "name": "stdout",
          "text": [
            "Vector señal a la entrada del receptor  [5 4 4 5 5 4 5 5 4 4 5 4 4 9 9 9 8 8 9 9 8 9 9 8 8]\n"
          ]
        }
      ]
    },
    {
      "cell_type": "code",
      "source": [
        "#Hard Decision\n",
        "# Calculamos el criterio de hard decision, con la operacion del valor maximo + el minimo dividio en 2.\n",
        "h_d = (suma_s_entrada.max() + suma_s_entrada.min()) / 2\n",
        "print(\"Valor de criterio del Hard decision:\",h_d)"
      ],
      "metadata": {
        "colab": {
          "base_uri": "https://localhost:8080/"
        },
        "id": "FPuk_RkK0K8b",
        "outputId": "900f20b1-f6d1-45e6-bcf0-b3095ae3bacd"
      },
      "execution_count": null,
      "outputs": [
        {
          "output_type": "stream",
          "name": "stdout",
          "text": [
            "Valor de criterio del Hard decision: 6.5\n"
          ]
        }
      ]
    },
    {
      "cell_type": "code",
      "source": [
        "#Señal resultado del aplicar hard decision\n",
        "#si el resultado de la hd es mayor a h_d es 1, sino es 0.\n",
        "res_hd = []\n",
        "for i in range(len(suma_s_entrada)):\n",
        "  if(suma_s_entrada[i] >= h_d):\n",
        "    res_hd.append(1)\n",
        "  else:\n",
        "    res_hd.append(0)\n",
        "print(\"Señal resultado de aplicar hard decision:\",res_hd)"
      ],
      "metadata": {
        "colab": {
          "base_uri": "https://localhost:8080/"
        },
        "id": "EVE12zgm05Qt",
        "outputId": "8f11d279-1b2f-4f4c-e717-595c29b1fd7d"
      },
      "execution_count": null,
      "outputs": [
        {
          "output_type": "stream",
          "name": "stdout",
          "text": [
            "Señal resultado de aplicar hard decision: [0, 0, 0, 0, 0, 0, 0, 0, 0, 0, 0, 0, 0, 1, 1, 1, 1, 1, 1, 1, 1, 1, 1, 1, 1]\n"
          ]
        }
      ]
    },
    {
      "cell_type": "code",
      "source": [
        "#Volvemos a codificar en el receptor y agrupamos en grupos de 5\n",
        "grupo = np.reshape(res_hd,(len(arreglo),5))\n",
        "print(grupo)"
      ],
      "metadata": {
        "colab": {
          "base_uri": "https://localhost:8080/"
        },
        "id": "j65r4Ch95KZh",
        "outputId": "8443074c-f200-469d-c784-7ed797952d0a"
      },
      "execution_count": null,
      "outputs": [
        {
          "output_type": "stream",
          "name": "stdout",
          "text": [
            "[[0 0 0 0 0]\n",
            " [0 0 0 0 0]\n",
            " [0 0 0 1 1]\n",
            " [1 1 1 1 1]\n",
            " [1 1 1 1 1]]\n"
          ]
        }
      ]
    },
    {
      "cell_type": "code",
      "source": [
        "#SEÑAL RECUPERADA\n",
        "vec_mo = []\n",
        "new_mo = []\n",
        "for i in range(len(grupo)):\n",
        "  grupoi = grupo[i]\n",
        "  vec_mo.append(np.logical_xor(arreglo2,grupo[i]))\n",
        "  moda = statistics.mode(vec_mo[i])\n",
        "  new_mo.append(moda)\n",
        "print(new_mo)"
      ],
      "metadata": {
        "colab": {
          "base_uri": "https://localhost:8080/"
        },
        "id": "UJlbQtNr7Byt",
        "outputId": "aa83c2c8-4974-4858-8a7d-66d5718bce43"
      },
      "execution_count": null,
      "outputs": [
        {
          "output_type": "stream",
          "name": "stdout",
          "text": [
            "[True, True, False, False, False]\n"
          ]
        }
      ]
    },
    {
      "cell_type": "code",
      "source": [
        "#Convertimos a entero para poder realizar las operaciones correspondientes\n",
        "for i in range(len(new_mo)):\n",
        "  if(new_mo[i] == True):\n",
        "    new_mo[i] = 1\n",
        "  if(new_mo[i] == False):\n",
        "    new_mo[i] = 0\n",
        "print(\"Señal recuperada:\",new_mo)"
      ],
      "metadata": {
        "colab": {
          "base_uri": "https://localhost:8080/"
        },
        "id": "lI5OE5Uf98PR",
        "outputId": "712eac22-baf5-40f4-d9eb-a213eb1f7ec8"
      },
      "execution_count": null,
      "outputs": [
        {
          "output_type": "stream",
          "name": "stdout",
          "text": [
            "Señal recuperada: [1, 1, 0, 0, 0]\n"
          ]
        }
      ]
    },
    {
      "cell_type": "code",
      "source": [
        "import matplotlib.pyplot as plt\n",
        "fig, ax = plt.subplots(figsize=(cantidad + 1, 2))\n",
        "for i in range(len(arreglo) + 2):\n",
        "    ax.axvline(x=i, color='gray', linestyle='--', linewidth=0.5)\n",
        "for i, bit in enumerate(new_mo):\n",
        "    if bit == 1:\n",
        "        ax.add_patch(plt.Rectangle((i, 0), 1, 1, color='black'))\n",
        "    else:\n",
        "        ax.hlines(0, i, i + 1, color='black')\n",
        "ax.set_title('Señal Recuperada')\n",
        "ax.set_xlabel('Bits')\n",
        "ax.set_ylabel('Valor')\n",
        "\n",
        "# Configurar la cuadrícula en el eje y\n",
        "ax.set_yticks([0, 0.5, 1])\n",
        "ax.set_yticklabels([0, 0.5, 1])\n",
        "# Mostrar el gráfico\n",
        "plt.xlim(-0.5, len(arreglo) + 0.5)\n",
        "plt.ylim(-0.1, 1.1)\n",
        "plt.show()\n",
        "\n",
        "\n"
      ],
      "metadata": {
        "colab": {
          "base_uri": "https://localhost:8080/",
          "height": 256
        },
        "id": "YVTKAE2P9k7H",
        "outputId": "fb24892a-ece7-42a2-b264-20d645e2802a"
      },
      "execution_count": null,
      "outputs": [
        {
          "output_type": "display_data",
          "data": {
            "text/plain": [
              "<Figure size 600x200 with 1 Axes>"
            ],
            "image/png": "[encoded data removed]"
          },
          "metadata": {}
        }
      ]
    },
    {
      "cell_type": "code",
      "source": [
        "#BER\n",
        "errores = sum(1 for x, y in zip(new_mo, arreglo) if x != y)\n",
        "tasa_error = errores / len(arreglo)\n",
        "\n",
        "print(f\"La tasa de error es: {tasa_error}\")"
      ],
      "metadata": {
        "colab": {
          "base_uri": "https://localhost:8080/"
        },
        "id": "rf9VQr2b-HmQ",
        "outputId": "b60f98d0-2e97-43d6-8d2b-8b1510a4d4f1"
      },
      "execution_count": null,
      "outputs": [
        {
          "output_type": "stream",
          "name": "stdout",
          "text": [
            "La tasa de error es: 0.4\n"
          ]
        }
      ]
    },
    {
      "cell_type": "code",
      "source": [
        "import matplotlib.pyplot as plt\n",
        "import random\n",
        "\n",
        "\n",
        "fig, (ax1, ax2) = plt.subplots(2, 1, figsize=(8, 4))\n",
        "\n",
        "for ax in [ax1, ax2]:\n",
        "    for i in range(len(arreglo) + 1):\n",
        "        ax.axvline(x=i, color='gray', linestyle='--', linewidth=0.5)\n",
        "\n",
        "for i, bit in enumerate(arreglo):\n",
        "    if bit == 1:\n",
        "        ax1.add_patch(plt.Rectangle((i, 0), 1, 1, color='black'))\n",
        "    else:\n",
        "        ax1.hlines(0, i, i + 1, color='black')\n",
        "for i, bit in enumerate(new_mo):\n",
        "    if bit == 1:\n",
        "        ax2.add_patch(plt.Rectangle((i, 0), 1, 1, color='black'))\n",
        "    else:\n",
        "        ax2.hlines(0, i, i + 1, color='black')\n",
        "\n",
        "ax1.set_title('Señal Original')\n",
        "ax1.set_xlabel('Bits')\n",
        "ax1.set_ylabel('Valor')\n",
        "ax2.set_title('Señal Recuperada')\n",
        "ax2.set_xlabel('Bits')\n",
        "ax2.set_ylabel('Valor')\n",
        "\n",
        "for ax in [ax1, ax2]:\n",
        "    ax.set_yticks([0, 1])\n",
        "    ax.set_yticklabels([0, 1])\n",
        "\n",
        "ax1.set_xlim(-0.5, len(arreglo))\n",
        "ax2.set_xlim(-0.5, len(new_mo))\n",
        "\n",
        "ax1.set_ylim(-0.1, 1.1)\n",
        "ax2.set_ylim(-0.1, 1.1)\n",
        "\n",
        "plt.tight_layout()\n",
        "plt.show()\n",
        "\n"
      ],
      "metadata": {
        "colab": {
          "base_uri": "https://localhost:8080/",
          "height": 406
        },
        "id": "mnBgkFD9DGJc",
        "outputId": "f28a7077-ad89-4510-cdbe-5aad4f6668f0"
      },
      "execution_count": null,
      "outputs": [
        {
          "output_type": "display_data",
          "data": {
            "text/plain": [
              "<Figure size 800x400 with 2 Axes>"
            ],
            "image/png": "[encoded data removed]"
          },
          "metadata": {}
        }
      ]
    }
  ]
}